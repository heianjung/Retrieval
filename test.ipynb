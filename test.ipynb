{
 "cells": [
  {
   "cell_type": "markdown",
   "id": "b76824c1",
   "metadata": {},
   "source": []
  },
  {
   "cell_type": "markdown",
   "id": "aa546795",
   "metadata": {},
   "source": [
    "# Import Library"
   ]
  },
  {
   "cell_type": "code",
   "execution_count": null,
   "id": "242a36d3",
   "metadata": {},
   "outputs": [],
   "source": [
    "import os\n",
    "import requests\n",
    "import json\n",
    "import pandas as pd\n",
    "import numpy as np\n",
    "from tqdm.notebook import tqdm\n",
    "from openai import OpenAI\n",
    "from torch.utils.data import DataLoader\n",
    "from sentence_transformers import SentenceTransformer, losses, InputExample\n",
    "from sentence_transformers.evaluation import InformationRetrievalEvaluator\n",
    "import torch\n",
    "from sklearn.metrics.pairwise import cosine_similarity"
   ]
  },
  {
   "cell_type": "code",
   "execution_count": null,
   "id": "6e292aa7",
   "metadata": {},
   "outputs": [],
   "source": []
  },
  {
   "cell_type": "code",
   "execution_count": null,
   "id": "9f649290",
   "metadata": {},
   "outputs": [],
   "source": [
    "### 구현 예시 (더 상세한 코드)\n",
    "from sentence_transformers import SentenceTransformer, losses, InputExample\n",
    "from torch.utils.data import DataLoader\n",
    "import torch\n",
    "\n",
    "# 모델 로드\n",
    "model = SentenceTransformer('distilbert-base-multilingual-cased')\n",
    "\n",
    "# 훈련 데이터 준비\n",
    "train_examples = [\n",
    "    InputExample(texts=[\"AI란 무엇인가?\", \"AI는 인간의 지능을 모방한 기술입니다.\"]),\n",
    "    InputExample(texts=[\"딥러닝이란?\", \"신경망을 여러 층 쌓아 데이터로부터 학습하는 기계학습 방법입니다.\"]),\n",
    "    InputExample(texts=[\"Python은 어디에 쓰이나요?\", \"Python은 데이터 분석, 웹 개발, AI 등에 널리 사용됩니다.\"]),\n",
    "    InputExample(texts=[\"자연어 처리란?\", \"컴퓨터가 인간의 언어를 이해하고 처리하는 AI의 한 분야입니다.\"])\n",
    "]\n",
    "\n",
    "# 배치 크기가 클수록 성능이 향상될 수 있음\n",
    "batch_size = 32  # 실제 환경에서는 16-64 범위가 일반적\n",
    "train_dataloader = DataLoader(train_examples, shuffle=True, batch_size=batch_size)\n",
    "\n",
    "# MultipleNegativesRankingLoss 설정\n",
    "# 온도(temperature) 파라미터를 조정하여 손실 함수의 강도 조절 가능\n",
    "loss = losses.MultipleNegativesRankingLoss(model, scale=20.0)  # scale은 temperature의 역수\n",
    "\n",
    "# 학습 설정\n",
    "train_loss = losses.MultipleNegativesRankingLoss(model)\n",
    "warmup_steps = int(len(train_dataloader) * 0.1)  # 전체 훈련 데이터의 10%\n",
    "\n",
    "# 모델 학습\n",
    "model.fit(\n",
    "    train_objectives=[(train_dataloader, train_loss)],\n",
    "    epochs=3,\n",
    "    warmup_steps=warmup_steps,\n",
    "    optimizer_params={'lr': 2e-5},\n",
    "    output_path='./korean-sentence-embedding-model'\n",
    ")\n"
   ]
  },
  {
   "cell_type": "code",
   "execution_count": null,
   "id": "554480cb",
   "metadata": {},
   "outputs": [],
   "source": []
  },
  {
   "cell_type": "code",
   "execution_count": null,
   "id": "0c48d0c1",
   "metadata": {},
   "outputs": [],
   "source": []
  },
  {
   "cell_type": "code",
   "execution_count": null,
   "id": "8b001189",
   "metadata": {},
   "outputs": [],
   "source": []
  },
  {
   "cell_type": "code",
   "execution_count": null,
   "id": "a3c7144b",
   "metadata": {},
   "outputs": [],
   "source": []
  },
  {
   "cell_type": "code",
   "execution_count": null,
   "id": "dc58d59f",
   "metadata": {},
   "outputs": [],
   "source": []
  }
 ],
 "metadata": {
  "kernelspec": {
   "display_name": "base",
   "language": "python",
   "name": "python3"
  },
  "language_info": {
   "name": "python",
   "version": "3.10.13"
  }
 },
 "nbformat": 4,
 "nbformat_minor": 5
}
